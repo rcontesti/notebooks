{
 "cells": [
  {
   "cell_type": "markdown",
   "metadata": {},
   "source": [
    "## SCRAPY CHEATSHEET\n",
    "\n",
    "\n",
    "https://amaral.northwestern.edu/blog/quick-introduction-web-crawling-using-scrapy-part-\n",
    "\n",
    "https://kaismh.wordpress.com/2016/04/29/extracting-data-from-websites-using-scrapy/\n",
    "\n",
    "https://blog.siliconstraits.vn/building-web-crawler-scrapy/"
   ]
  },
  {
   "cell_type": "code",
   "execution_count": 1,
   "metadata": {
    "collapsed": false
   },
   "outputs": [],
   "source": [
    "from scrapy.spiders import Spider\n",
    "#from tutsplus.items import TutsplusItem\n",
    "from scrapy.http    import Request\n",
    "from scrapy.crawler import CrawlerProcess\n",
    "\n",
    "\n",
    "url0=\"http://en.boerse-frankfurt.de/bonds/pricehistory/\"+\\\n",
    "\"Odebrecht_OffshDrilFinLtdDL-Notes_201414-14-22_RegS-Bond-2022-USG6711KAB10\"+\\\n",
    "\"#Price_History\""
   ]
  },
  {
   "cell_type": "code",
   "execution_count": 2,
   "metadata": {
    "collapsed": true
   },
   "outputs": [],
   "source": [
    "## BASIC PARAMETERS"
   ]
  },
  {
   "cell_type": "code",
   "execution_count": 2,
   "metadata": {
    "collapsed": false
   },
   "outputs": [],
   "source": [
    "# name       = \"tutsplus\" # used to call the spider\n",
    "# allowed_domains = [\"code.tutsplus.com\"] ## List of allowed domains\n",
    "# start_urls  = [\"http://code.tutsplus.com/\"]\n",
    "# xpath= \"//a[@class=\"posts__post-title \"]/h1/text()\"\n",
    "# xpath2=\"//a[contains(@class, \"posts__post-title\")]/h1/text()\" ## xpath that uses contains \n",
    "\n",
    "\n"
   ]
  },
  {
   "cell_type": "code",
   "execution_count": 3,
   "metadata": {
    "collapsed": false
   },
   "outputs": [],
   "source": [
    "class MySpider(Spider):\n",
    "    name       = \"tutsplus\" # used to call the spider\n",
    "    allowed_domains = [\"http://en.boerse-frankfurt.de/\"] ## List of allowed domains\n",
    "    start_urls  = [\"http://en.boerse-frankfurt.de/bonds/pricehistory/Odebrecht_OffshDrilFinLtdDL-Notes_201414-14-22_RegS-Bond-2022-USG6711KAB10#Price_History\"]\n",
    "    \n",
    "\n",
    "\n",
    "    def parse(self, response):\n",
    "        \n",
    "      titles = response.xpath(xpath).extract()\n",
    "      for title in titles:\n",
    "        #item = TutsplusItem()\n",
    "        item[\"title\"] = title\n",
    "        yield item\n",
    "    "
   ]
  },
  {
   "cell_type": "code",
   "execution_count": null,
   "metadata": {
    "collapsed": false
   },
   "outputs": [],
   "source": [
    "# Run Scrapy from SHELL\n",
    "! python3\n"
   ]
  },
  {
   "cell_type": "code",
   "execution_count": 4,
   "metadata": {
    "collapsed": false
   },
   "outputs": [
    {
     "name": "stderr",
     "output_type": "stream",
     "text": [
      "2017-05-17 19:16:12 [scrapy.utils.log] INFO: Scrapy 1.3.3 started (bot: scrapybot)\n",
      "2017-05-17 19:16:12 [scrapy.utils.log] INFO: Overridden settings: {}\n",
      "2017-05-17 19:16:12 [scrapy.middleware] INFO: Enabled extensions:\n",
      "['scrapy.extensions.corestats.CoreStats',\n",
      " 'scrapy.extensions.telnet.TelnetConsole',\n",
      " 'scrapy.extensions.logstats.LogStats']\n",
      "2017-05-17 19:16:12 [scrapy.middleware] INFO: Enabled downloader middlewares:\n",
      "['scrapy.downloadermiddlewares.httpauth.HttpAuthMiddleware',\n",
      " 'scrapy.downloadermiddlewares.downloadtimeout.DownloadTimeoutMiddleware',\n",
      " 'scrapy.downloadermiddlewares.defaultheaders.DefaultHeadersMiddleware',\n",
      " 'scrapy.downloadermiddlewares.useragent.UserAgentMiddleware',\n",
      " 'scrapy.downloadermiddlewares.retry.RetryMiddleware',\n",
      " 'scrapy.downloadermiddlewares.redirect.MetaRefreshMiddleware',\n",
      " 'scrapy.downloadermiddlewares.httpcompression.HttpCompressionMiddleware',\n",
      " 'scrapy.downloadermiddlewares.redirect.RedirectMiddleware',\n",
      " 'scrapy.downloadermiddlewares.cookies.CookiesMiddleware',\n",
      " 'scrapy.downloadermiddlewares.stats.DownloaderStats']\n",
      "2017-05-17 19:16:12 [scrapy.middleware] INFO: Enabled spider middlewares:\n",
      "['scrapy.spidermiddlewares.httperror.HttpErrorMiddleware',\n",
      " 'scrapy.spidermiddlewares.offsite.OffsiteMiddleware',\n",
      " 'scrapy.spidermiddlewares.referer.RefererMiddleware',\n",
      " 'scrapy.spidermiddlewares.urllength.UrlLengthMiddleware',\n",
      " 'scrapy.spidermiddlewares.depth.DepthMiddleware']\n",
      "2017-05-17 19:16:12 [scrapy.middleware] INFO: Enabled item pipelines:\n",
      "[]\n",
      "2017-05-17 19:16:12 [scrapy.core.engine] INFO: Spider opened\n",
      "2017-05-17 19:16:12 [scrapy.extensions.logstats] INFO: Crawled 0 pages (at 0 pages/min), scraped 0 items (at 0 items/min)\n",
      "2017-05-17 19:16:12 [scrapy.extensions.telnet] DEBUG: Telnet console listening on 127.0.0.1:6023\n",
      "2017-05-17 19:16:15 [scrapy.core.engine] DEBUG: Crawled (200) <GET http://en.boerse-frankfurt.de/bonds/pricehistory/Odebrecht_OffshDrilFinLtdDL-Notes_201414-14-22_RegS-Bond-2022-USG6711KAB10#Price_History> (referer: None)\n",
      "2017-05-17 19:16:15 [scrapy.core.scraper] ERROR: Spider error processing <GET http://en.boerse-frankfurt.de/bonds/pricehistory/Odebrecht_OffshDrilFinLtdDL-Notes_201414-14-22_RegS-Bond-2022-USG6711KAB10#Price_History> (referer: None)\n",
      "Traceback (most recent call last):\n",
      "  File \"/home/rcontesti/anaconda3/lib/python3.6/site-packages/scrapy/utils/defer.py\", line 102, in iter_errback\n",
      "    yield next(it)\n",
      "  File \"/home/rcontesti/anaconda3/lib/python3.6/site-packages/scrapy/spidermiddlewares/offsite.py\", line 29, in process_spider_output\n",
      "    for x in result:\n",
      "  File \"/home/rcontesti/anaconda3/lib/python3.6/site-packages/scrapy/spidermiddlewares/referer.py\", line 22, in <genexpr>\n",
      "    return (_set_referer(r) for r in result or ())\n",
      "  File \"/home/rcontesti/anaconda3/lib/python3.6/site-packages/scrapy/spidermiddlewares/urllength.py\", line 37, in <genexpr>\n",
      "    return (r for r in result or () if _filter(r))\n",
      "  File \"/home/rcontesti/anaconda3/lib/python3.6/site-packages/scrapy/spidermiddlewares/depth.py\", line 58, in <genexpr>\n",
      "    return (r for r in result or () if _filter(r))\n",
      "  File \"<ipython-input-3-7893149fb845>\", line 10, in parse\n",
      "    item[\"title\"] = title\n",
      "NameError: name 'item' is not defined\n",
      "2017-05-17 19:16:15 [scrapy.core.engine] INFO: Closing spider (finished)\n",
      "2017-05-17 19:16:15 [scrapy.statscollectors] INFO: Dumping Scrapy stats:\n",
      "{'downloader/request_bytes': 313,\n",
      " 'downloader/request_count': 1,\n",
      " 'downloader/request_method_count/GET': 1,\n",
      " 'downloader/response_bytes': 36368,\n",
      " 'downloader/response_count': 1,\n",
      " 'downloader/response_status_count/200': 1,\n",
      " 'finish_reason': 'finished',\n",
      " 'finish_time': datetime.datetime(2017, 5, 17, 22, 16, 15, 177566),\n",
      " 'log_count/DEBUG': 2,\n",
      " 'log_count/ERROR': 1,\n",
      " 'log_count/INFO': 7,\n",
      " 'response_received_count': 1,\n",
      " 'scheduler/dequeued': 1,\n",
      " 'scheduler/dequeued/memory': 1,\n",
      " 'scheduler/enqueued': 1,\n",
      " 'scheduler/enqueued/memory': 1,\n",
      " 'spider_exceptions/NameError': 1,\n",
      " 'start_time': datetime.datetime(2017, 5, 17, 22, 16, 12, 804609)}\n",
      "2017-05-17 19:16:15 [scrapy.core.engine] INFO: Spider closed (finished)\n"
     ]
    }
   ],
   "source": [
    "# IN ORDER TO RUN SCRAPY FROM SCRIPT\n",
    "##https://doc.scrapy.org/en/latest/topics/practices.html\n",
    "\n",
    "process = CrawlerProcess()\n",
    "process.crawl(MySpider)\n",
    "process.start(stop_after_crawl=True)\n",
    "# process.stop()\n",
    "    "
   ]
  },
  {
   "cell_type": "code",
   "execution_count": null,
   "metadata": {
    "collapsed": false
   },
   "outputs": [],
   "source": [
    "! exit"
   ]
  },
  {
   "cell_type": "code",
   "execution_count": null,
   "metadata": {
    "collapsed": false
   },
   "outputs": [],
   "source": []
  },
  {
   "cell_type": "code",
   "execution_count": null,
   "metadata": {
    "collapsed": true
   },
   "outputs": [],
   "source": []
  }
 ],
 "metadata": {
  "kernelspec": {
   "display_name": "Python 3",
   "language": "python",
   "name": "python3"
  },
  "language_info": {
   "codemirror_mode": {
    "name": "ipython",
    "version": 3
   },
   "file_extension": ".py",
   "mimetype": "text/x-python",
   "name": "python",
   "nbconvert_exporter": "python",
   "pygments_lexer": "ipython3",
   "version": "3.6.0"
  }
 },
 "nbformat": 4,
 "nbformat_minor": 2
}
