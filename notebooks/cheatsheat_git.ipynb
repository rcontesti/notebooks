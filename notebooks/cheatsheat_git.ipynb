{
 "cells": [
  {
   "cell_type": "markdown",
   "metadata": {},
   "source": [
    "# Github Cheatsheet"
   ]
  },
  {
   "cell_type": "markdown",
   "metadata": {},
   "source": [
    "<a id=\"Index\"><a>"
   ]
  },
  {
   "cell_type": "markdown",
   "metadata": {},
   "source": [
    "# Index"
   ]
  },
  {
   "cell_type": "markdown",
   "metadata": {},
   "source": [
    "[GitHub Tutorial](https://try.github.io/levels/1/challenges/1)"
   ]
  },
  {
   "cell_type": "markdown",
   "metadata": {},
   "source": [
    "Browse to a folder and create a git repository:\n",
    "```\n",
    "$ git init\n",
    "```\n",
    "\n",
    "Add Files to the repository (already in the folder) or add all the folder (-A) or add all that match (*)\n",
    "\n",
    "```\n",
    "$ git add file.txt\n",
    "$ git add -A\n",
    "$ git add '*.txt'\n",
    "\n",
    "```\n",
    "\n",
    "Check Status/changes of the repository\n",
    "\n",
    "```\n",
    "$ git status\n",
    "```\n",
    "\n",
    "Commit a change of a file to the repository\n",
    "\n",
    "```\n",
    "$ git commit -m \"A name for the change I have made\"\n",
    "```\n",
    "\n",
    "Remove a file or files from the staging area.\n",
    "```\n",
    "$ git reset filename\n",
    "```\n",
    "\n",
    "Browse all the commits\n",
    "```\n",
    "$ git log\n",
    "```\n",
    "Push/Upload a repository to github (it must end with .git)\n",
    "\n",
    "```\n",
    "$ git remote add origin https://github.com/rcontesti/notebooks.git\n",
    "$ git push -u origin master\n",
    "```\n",
    "Change/remove github repository origin\n",
    "\n",
    "```\n",
    "$ git remote rm origin\n",
    "```\n",
    "\n",
    "Download/Push files from a repository\n",
    "\n",
    "```\n",
    "$git pull origin master\n",
    "```\n",
    "\n",
    "See differences between remote and local repository\n",
    "```\n",
    "$ git diff HEAD\n",
    "```\n",
    "Undo: get rid of all the changes since the last commit\n",
    "```\n",
    "$  git checkout -- filename.txt\n",
    "```\n",
    "Create a branch\n",
    "\n",
    "```\n",
    "$  git branch branchname\n",
    "```\n",
    "See Branches\n",
    "\n",
    "```\n",
    "$  git branch\n",
    "```\n",
    "\n",
    "Move to another branch (Yes the same as creating a branch)\n",
    "\n",
    "```\n",
    "$  git branch branchname\n",
    "```\n",
    "\n",
    "Remove files (It also stages the removal)\n",
    "```\n",
    "$ git rm '*.txt'\n",
    "```\n",
    "\n",
    "Merge a branch to the master\n",
    "```\n",
    "$ git merge branchname\n",
    "```\n",
    "\n",
    "Delete the branch that has been merged\n",
    "```\n",
    "$ git branch -d branchname\n",
    "```"
   ]
  },
  {
   "cell_type": "code",
   "execution_count": null,
   "metadata": {
    "collapsed": true
   },
   "outputs": [],
   "source": []
  }
 ],
 "metadata": {
  "kernelspec": {
   "display_name": "Python 3",
   "language": "python",
   "name": "python3"
  },
  "language_info": {
   "codemirror_mode": {
    "name": "ipython",
    "version": 3
   },
   "file_extension": ".py",
   "mimetype": "text/x-python",
   "name": "python",
   "nbconvert_exporter": "python",
   "pygments_lexer": "ipython3",
   "version": "3.6.0"
  }
 },
 "nbformat": 4,
 "nbformat_minor": 2
}
