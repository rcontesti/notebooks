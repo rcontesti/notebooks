{
 "cells": [
  {
   "cell_type": "markdown",
   "metadata": {},
   "source": [
    "# Tensorflow"
   ]
  },
  {
   "cell_type": "markdown",
   "metadata": {},
   "source": [
    "<a id=\"Index\"><a>"
   ]
  },
  {
   "cell_type": "markdown",
   "metadata": {},
   "source": [
    "## Index\n",
    "\n",
    "1. [Installation](#Installation)\n",
    "2. [Usage](#Usage)"
   ]
  },
  {
   "cell_type": "markdown",
   "metadata": {},
   "source": [
    "<a id=\"Installation\"><a>"
   ]
  },
  {
   "cell_type": "markdown",
   "metadata": {},
   "source": [
    "## Installation\n",
    "[Back to Index](#Index)\n",
    "\n",
    "Create a conda environment called tensorflow:\n",
    "\n",
    "```\n",
    "# Python 2.7\n",
    "$ conda create -n tensorflow python=2.7\n",
    "\n",
    "# Python 3.4\n",
    "$ conda create -n tensorflow python=3.4\n",
    "\n",
    "# Python 3.5\n",
    "$ conda create -n tensorflow python=3.5\n",
    "```\n",
    "Then Activate\n",
    "```\n",
    "$ source activate tensorflow\n",
    "```\n",
    "\n",
    "Now, install TensorFlow just as you would for a regular Pip installation. First select the correct binary to install:\n",
    "\n",
    "```\n",
    "# Ubuntu/Linux 64-bit, CPU only, Python 2.7\n",
    "(tensorflow)$ export TF_BINARY_URL=https://storage.googleapis.com/tensorflow/linux/cpu/tensorflow-0.10.0-cp27-none-linux_x86_64.whl\n",
    "\n",
    "# Ubuntu/Linux 64-bit, GPU enabled, Python 2.7\n",
    "# Requires CUDA toolkit 7.5 and CuDNN v5. For other versions, see \"Install from sources\" below.\n",
    "(tensorflow)$ export TF_BINARY_URL=https://storage.googleapis.com/tensorflow/linux/gpu/tensorflow-0.10.0-cp27-none-linux_x86_64.whl\n",
    "\n",
    "# Mac OS X, CPU only, Python 2.7:\n",
    "(tensorflow)$ export TF_BINARY_URL=https://storage.googleapis.com/tensorflow/mac/cpu/tensorflow-0.10.0-py2-none-any.whl\n",
    "\n",
    "# Mac OS X, GPU enabled, Python 2.7:\n",
    "(tensorflow)$ export TF_BINARY_URL=https://storage.googleapis.com/tensorflow/mac/gpu/tensorflow-0.10.0-py2-none-any.whl\n",
    "\n",
    "# Ubuntu/Linux 64-bit, CPU only, Python 3.4\n",
    "(tensorflow)$ export TF_BINARY_URL=https://storage.googleapis.com/tensorflow/linux/cpu/tensorflow-0.10.0-cp34-cp34m-linux_x86_64.whl\n",
    "\n",
    "# Ubuntu/Linux 64-bit, GPU enabled, Python 3.4\n",
    "# Requires CUDA toolkit 7.5 and CuDNN v5. For other versions, see \"Install from sources\" below.\n",
    "(tensorflow)$ export TF_BINARY_URL=https://storage.googleapis.com/tensorflow/linux/gpu/tensorflow-0.10.0-cp34-cp34m-linux_x86_64.whl\n",
    "\n",
    "# Ubuntu/Linux 64-bit, CPU only, Python 3.5\n",
    "(tensorflow)$ export TF_BINARY_URL=https://storage.googleapis.com/tensorflow/linux/cpu/tensorflow-0.10.0-cp35-cp35m-linux_x86_64.whl\n",
    "\n",
    "# Ubuntu/Linux 64-bit, GPU enabled, Python 3.5\n",
    "# Requires CUDA toolkit 7.5 and CuDNN v5. For other versions, see \"Install from sources\" below.\n",
    "(tensorflow)$ export TF_BINARY_URL=https://storage.googleapis.com/tensorflow/linux/gpu/tensorflow-0.10.0-cp35-cp35m-linux_x86_64.whl\n",
    "\n",
    "# Mac OS X, CPU only, Python 3.4 or 3.5:\n",
    "(tensorflow)$ export TF_BINARY_URL=https://storage.googleapis.com/tensorflow/mac/cpu/tensorflow-0.10.0-py3-none-any.whl\n",
    "\n",
    "# Mac OS X, GPU enabled, Python 3.4 or 3.5:\n",
    "(tensorflow)$ export TF_BINARY_URL=https://storage.googleapis.com/tensorflow/mac/gpu/tensorflow-0.10.0-py3-none-any.whl\n",
    "\n",
    "```\n",
    "Finally install TensorFlow:\n",
    "\n",
    "```\n",
    "# Python 2\n",
    "(tensorflow)$ pip install --ignore-installed --upgrade $TF_BINARY_URL\n",
    "\n",
    "# Python 3\n",
    "(tensorflow)$ pip3 install --ignore-installed --upgrade $TF_BINARY_URL\n",
    "\n",
    "```"
   ]
  },
  {
   "cell_type": "markdown",
   "metadata": {},
   "source": [
    "<a id=\"Usage\"><a>"
   ]
  },
  {
   "cell_type": "markdown",
   "metadata": {},
   "source": [
    "## Usage\n",
    "[Back to Index](#Index)\n",
    "\n",
    "```\n",
    "$ source activate tensorflow\n",
    "(tensorflow)$  # Your prompt should change.\n",
    "# Run Python programs that use TensorFlow.\n",
    "...\n",
    "# When you are done using TensorFlow, deactivate the environment.\n",
    "(tensorflow)$ source deactivate\n",
    "```\n"
   ]
  },
  {
   "cell_type": "markdown",
   "metadata": {},
   "source": [
    "<a id=\"Ipython\"><a>"
   ]
  },
  {
   "cell_type": "markdown",
   "metadata": {
    "collapsed": true
   },
   "source": [
    "## Install IPython\n",
    "[Back to Index](#Index)\n",
    "\n",
    "To use tensorflow with IPython it may be necessary to install IPython into the tensorflow environment:\n",
    "```\n",
    "$ source activate tensorflow\n",
    "(tensorflow)$ conda install ipython\n",
    "```"
   ]
  },
  {
   "cell_type": "code",
   "execution_count": null,
   "metadata": {
    "collapsed": true
   },
   "outputs": [],
   "source": []
  }
 ],
 "metadata": {
  "kernelspec": {
   "display_name": "Python 3",
   "language": "python",
   "name": "python3"
  },
  "language_info": {
   "codemirror_mode": {
    "name": "ipython",
    "version": 3
   },
   "file_extension": ".py",
   "mimetype": "text/x-python",
   "name": "python",
   "nbconvert_exporter": "python",
   "pygments_lexer": "ipython3",
   "version": "3.6.0"
  }
 },
 "nbformat": 4,
 "nbformat_minor": 2
}
