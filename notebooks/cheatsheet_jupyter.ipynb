{
 "cells": [
  {
   "cell_type": "markdown",
   "metadata": {},
   "source": [
    "<a id=\"index\"></a>"
   ]
  },
  {
   "cell_type": "markdown",
   "metadata": {},
   "source": [
    "<a id=\"Index\"></a>\n",
    "# Index\n",
    "\n",
    "1.[Hyperlinks in the notebook](#Hyperlinks_in_the_notebook)\n",
    "\n",
    "2.[ShortCuts](#ShortCuts)\n",
    "\n",
    "3.[Latex](#Latex)\n",
    "\n",
    "4.[Images](#Images)\n",
    "\n",
    "5.[Open Browser](#Browser)"
   ]
  },
  {
   "cell_type": "markdown",
   "metadata": {},
   "source": [
    "<a id=\"Hyperlinks in the notebook\"></a>"
   ]
  },
  {
   "cell_type": "markdown",
   "metadata": {},
   "source": [
    "<a id=\"Hyperlinks_in_the_notebook\"></a>\n",
    "# 1. Hyperlinks in the notebook\n",
    "[Back to Index](#Index)\n",
    "\n",
    "(http://sebastianraschka.com/Articles/2014_ipython_internal_links.html)\n",
    "\n",
    "En el indice:\n",
    "```\n",
    "[NombreDelDestino](#idDelDestino)\n",
    "```\n",
    "En el destino (Colocar en una celda aparte asi figura invisible):\n",
    "```\n",
    "<a id ='idDelDestino' ></a>\n",
    "```"
   ]
  },
  {
   "cell_type": "markdown",
   "metadata": {
    "collapsed": true
   },
   "source": [
    "<a id=ShortCuts></a>\n",
    "# 2. Shortcuts\n",
    "[Back to Index](#Index)\n",
    "    \n",
    "To delete press Esc+D,D    "
   ]
  },
  {
   "cell_type": "markdown",
   "metadata": {
    "collapsed": true
   },
   "source": [
    "<a id=\"Latex\"></a>\n",
    "# 3. Latex\n",
    "[Back to Index](#Index)\n",
    "    \n",
    "Expressions must be surrounded by $$\n",
    "\n",
    "\n",
    "e^x=\\sum_{i=0}^\\infty \\frac{1}{i!}x^i\n",
    "\n",
    "\n",
    "$$e^x=\\sum_{i=0}^\\infty \\frac{1}{i!}x^i$$"
   ]
  },
  {
   "cell_type": "markdown",
   "metadata": {
    "collapsed": true
   },
   "source": [
    "<a id=\"Images\"></a>\n",
    "# 4. Images\n",
    "[Back to Index](#Index)\n"
   ]
  },
  {
   "cell_type": "code",
   "execution_count": 1,
   "metadata": {
    "collapsed": false
   },
   "outputs": [
    {
     "name": "stdout",
     "output_type": "stream",
     "text": [
      "/bin/sh: 1: Syntax error: word unexpected (expecting \")\")\r\n"
     ]
    }
   ],
   "source": [
    "![title](img/picture.png)"
   ]
  },
  {
   "cell_type": "markdown",
   "metadata": {},
   "source": [
    "<a id=\"Browser\"></a>\n",
    "# 5. Open Browser\n",
    "[Back to Index](#Index)"
   ]
  },
  {
   "cell_type": "code",
   "execution_count": 13,
   "metadata": {
    "collapsed": false
   },
   "outputs": [
    {
     "name": "stdout",
     "output_type": "stream",
     "text": [
      "Created new window in existing browser session.\n"
     ]
    },
    {
     "name": "stderr",
     "output_type": "stream",
     "text": [
      "bash: line 1: =https://www.google.com.ar/: No such file or directory\n"
     ]
    }
   ],
   "source": [
    "%%bash\n",
    "$WEBPAGE=https://www.google.com.ar/\n",
    "google-chrome file:///home/rcontesti/github/notebooks/revealjs_usage.slides.html\n"
   ]
  },
  {
   "cell_type": "code",
   "execution_count": 12,
   "metadata": {
    "collapsed": false
   },
   "outputs": [
    {
     "name": "stdout",
     "output_type": "stream",
     "text": [
      "for files\n"
     ]
    }
   ],
   "source": [
    "%%bash\n",
    "echo \"for files\"\n",
    "xdg-open file:///home/rcontesti/github/notebooks/revealjs_usage.slides.html"
   ]
  },
  {
   "cell_type": "code",
   "execution_count": null,
   "metadata": {
    "collapsed": true
   },
   "outputs": [],
   "source": []
  }
 ],
 "metadata": {
  "kernelspec": {
   "display_name": "Python [default]",
   "language": "python",
   "name": "python3"
  },
  "language_info": {
   "codemirror_mode": {
    "name": "ipython",
    "version": 3
   },
   "file_extension": ".py",
   "mimetype": "text/x-python",
   "name": "python",
   "nbconvert_exporter": "python",
   "pygments_lexer": "ipython3",
   "version": "3.6.0"
  }
 },
 "nbformat": 4,
 "nbformat_minor": 2
}
