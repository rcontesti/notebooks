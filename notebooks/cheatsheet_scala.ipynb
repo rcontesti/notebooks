{
 "cells": [
  {
   "cell_type": "markdown",
   "metadata": {},
   "source": [
    "# *SCALA CHEAT SHEET*\n",
    "\n",
    "[Derek Banas Cheat Sheet](http://www.newthinktank.com/2015/08/learn-scala-one-video/)"
   ]
  },
  {
   "cell_type": "markdown",
   "metadata": {},
   "source": [
    "<a id=\"Index\" ></a>"
   ]
  },
  {
   "cell_type": "markdown",
   "metadata": {},
   "source": [
    "## INDEX\n",
    "\n",
    "1. [Setup](#Setup)\n",
    "2. [Basics](#Basics)\n"
   ]
  },
  {
   "cell_type": "markdown",
   "metadata": {},
   "source": [
    "<a id=\"Setup\"></a>"
   ]
  },
  {
   "cell_type": "markdown",
   "metadata": {
    "collapsed": true
   },
   "source": [
    "# 1. Setup\n",
    "[Return to index](#Index)\n",
    "<a id=Setup ></a>\n",
    "1. Scala runs on Java Virtual Machine (Install this first)\n",
    "2. Install Scala and sbt, on mac on the terminal type\n",
    "\n",
    "```\n",
    "brew install scala\n",
    "brew install sbt\n",
    "```\n",
    "    on ubuntu\n",
    "```\n",
    "sudo apt-get install scala\n",
    "sudo apt-get install sbt\n",
    "\n",
    "```\n",
    "\n",
    "\n"
   ]
  },
  {
   "cell_type": "markdown",
   "metadata": {},
   "source": [
    "# 2. Basics\n",
    "[Return to index](#Index)\n",
    "\n",
    "```Java\n",
    "\n",
    "$ scala\n",
    "scala>\n",
    "\n",
    "// exit\n",
    "scala>:q]\n",
    "\n",
    "scala> 10+3*2/7\n",
    "res0: Int = 10    // It assigns the result to variable res0\n",
    "\n",
    "scala> \"your answer is \"+res1\n",
    "res2: String = your answer is 10\n",
    "\n",
    "scala> var myName=\"Ruben\"  // It deciphers what variable \n",
    "myName: String = Ruben\n",
    "\n",
    "// single line comment\n",
    "\n",
    "/* Multiline \n",
    "\n",
    "\n",
    "comment\n",
    "*/\n",
    "\n",
    ":: prepends a single item whereas ::: prepends a complete list.\n",
    "\n",
    "val pi50 = BigDecimal(\"3.14159265358979323846264338327950288419716939937510\")\n",
    "0.00000000000000000000000000000000000000000000000001 + pi50\n",
    "\n",
    "scala> import scala.math._    // import all that is in this library\n",
    "\n",
    "// random numbers + Methods\n",
    "scala> (random *100).toInt\n",
    "res6: Int = 23\n",
    "\n",
    "//logical and conditional\n",
    "\n",
    "\n",
    "      if ((age>=2)||(age<=1)){\n",
    "      println(\"age is bigger than 2 and is \" + age)\n",
    "      } else if ((age <=2) && (age<=5)){\n",
    "      printl(\"nothing really\")\n",
    "      }\n",
    "\n",
    "```"
   ]
  },
  {
   "cell_type": "markdown",
   "metadata": {},
   "source": [
    "<a id=\"Code\"></a>"
   ]
  },
  {
   "cell_type": "markdown",
   "metadata": {},
   "source": [
    "# 3. Code\n",
    "[Return to index](#Index)\n",
    "\n",
    "\n",
    "file name is ScalaTutorial.scala\n",
    "\n",
    "```Java\n",
    "object ScalaTutorial {\n",
    "    def main (args: Array [String]){\n",
    "        var i=0\n",
    "    while(i<=10){\n",
    "        println(i)\n",
    "        i +=1        \n",
    "        }    \n",
    "    }\n",
    "}\n",
    "\n",
    "```\n",
    "to run the code\n",
    "\n",
    "```\n",
    "$ scala ScalaTutorial.scala\n",
    "\n",
    "```\n",
    "\n",
    "**Do while**\n",
    "\n",
    "```Java\n",
    "object ScalaTutorial {\n",
    "    def main (args: Array [String]){\n",
    "        var i=0\n",
    "    do {\n",
    "          println(i)\n",
    "          i += 1\n",
    "        } while(i <= 20)\n",
    "\n",
    "        for (i <- 1 to 10){\n",
    "          println(i)\n",
    "        }\n",
    "}\n",
    "\n",
    "```\n",
    "\n",
    "**For loop**\n",
    "```Java\n",
    "object ScalaTutorial {\n",
    "    def main (args: Array [String]){\n",
    "        var i=0\n",
    "    for(i>- 1 to 20){\n",
    "    println(i)\n",
    "    }\n",
    "}\n",
    "\n",
    "```\n",
    "\n",
    "\n"
   ]
  },
  {
   "cell_type": "markdown",
   "metadata": {
    "collapsed": true
   },
   "source": [
    "## LISTS\n",
    "\n",
    "[lists tutorial](https://www.tutorialspoint.com/scala/scala_lists.htm)\n",
    "\n",
    "\n",
    "```Java\n",
    "// List of Strings\n",
    "val fruit: List[String] = List(\"apples\", \"oranges\", \"pears\")\n",
    "\n",
    "// List of Integers\n",
    "val nums: List[Int] = List(1, 2, 3, 4)\n",
    "\n",
    "// Empty List.\n",
    "val empty: List[Nothing] = List()\n",
    "\n",
    "// Two dimensional list\n",
    "val dim: List[List[Int]] =\n",
    "   List(\n",
    "      List(1, 0, 0),\n",
    "      List(0, 1, 0),\n",
    "      List(0, 0, 1)\n",
    "   )\n",
    "```\n",
    "\n",
    "All lists can be defined using two fundamental building blocks, a tail Nil and ::, which is pronounced cons. Nil also represents the empty list. All the above lists can be defined as follows.\n",
    "\n",
    "```Java\n",
    "// List of Strings\n",
    "val fruit = \"apples\" :: (\"oranges\" :: (\"pears\" :: Nil))\n",
    "\n",
    "// List of Integers\n",
    "val nums = 1 :: (2 :: (3 :: (4 :: Nil)))\n",
    "\n",
    "// Empty List.\n",
    "val empty = Nil\n",
    "\n",
    "// Two dimensional list\n",
    "val dim = (1 :: (0 :: (0 :: Nil))) ::\n",
    "          (0 :: (1 :: (0 :: Nil))) ::\n",
    "          (0 :: (0 :: (1 :: Nil))) :: Nil\n",
    "```"
   ]
  },
  {
   "cell_type": "code",
   "execution_count": null,
   "metadata": {
    "collapsed": true
   },
   "outputs": [],
   "source": []
  },
  {
   "cell_type": "markdown",
   "metadata": {},
   "source": [
    "``` \n",
    "\n",
    "shell$ cd /path/to/progfun-project-directory                        # This is the shell of the operating system\n",
    "shell$ sbt\n",
    "> _                                                                 # This is the sbt shell\n",
    "\n",
    "```"
   ]
  },
  {
   "cell_type": "markdown",
   "metadata": {},
   "source": [
    "<a id = 'Basics' ></a>"
   ]
  },
  {
   "cell_type": "code",
   "execution_count": null,
   "metadata": {
    "collapsed": true
   },
   "outputs": [],
   "source": []
  }
 ],
 "metadata": {
  "kernelspec": {
   "display_name": "Python 3",
   "language": "python",
   "name": "python3"
  },
  "language_info": {
   "codemirror_mode": {
    "name": "ipython",
    "version": 3
   },
   "file_extension": ".py",
   "mimetype": "text/x-python",
   "name": "python",
   "nbconvert_exporter": "python",
   "pygments_lexer": "ipython3",
   "version": "3.6.0"
  }
 },
 "nbformat": 4,
 "nbformat_minor": 2
}
