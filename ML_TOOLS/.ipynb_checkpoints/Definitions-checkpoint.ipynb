{
 "cells": [
  {
   "cell_type": "markdown",
   "metadata": {},
   "source": [
    "## Definitions"
   ]
  },
  {
   "cell_type": "markdown",
   "metadata": {},
   "source": [
    "\n",
    "\n",
    "$$ TP= True Positives $$\n",
    "$$ FP= False Positives $$\n",
    "$$ FN= False Negatives$$\n",
    "\n",
    "\n",
    "$$ Precision = \\frac{TP}{(TP+FP)} $$\n",
    "\n",
    "$$ Recall = \\frac{TP}{(TP+FN)} $$\n",
    "\n",
    "$$ F1= \\frac{1}{\\frac{1}{Precision} + \\frac{1}{Recall}} $$\n",
    "\n"
   ]
  },
  {
   "cell_type": "code",
   "execution_count": null,
   "metadata": {
    "collapsed": true
   },
   "outputs": [],
   "source": []
  }
 ],
 "metadata": {
  "kernelspec": {
   "display_name": "Python 3",
   "language": "python",
   "name": "python3"
  },
  "language_info": {
   "codemirror_mode": {
    "name": "ipython",
    "version": 3
   },
   "file_extension": ".py",
   "mimetype": "text/x-python",
   "name": "python",
   "nbconvert_exporter": "python",
   "pygments_lexer": "ipython3",
   "version": "3.6.0"
  }
 },
 "nbformat": 4,
 "nbformat_minor": 2
}
