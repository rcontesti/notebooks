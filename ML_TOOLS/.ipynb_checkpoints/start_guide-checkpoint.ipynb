{
 "cells": [
  {
   "cell_type": "markdown",
   "metadata": {},
   "source": [
    "# Start Guide for ML Projects"
   ]
  },
  {
   "cell_type": "markdown",
   "metadata": {},
   "source": [
    "<a id=\"Index\"></a>\n",
    "## Index\n",
    "[Back to Index](#Index)\n",
    "\n",
    "0.[ML Project Checklist](#Check)\n",
    "\n",
    "1.[Setup: Folders and Enviroments](#Setup)"
   ]
  },
  {
   "cell_type": "markdown",
   "metadata": {},
   "source": [
    "\n",
    "<a id=\"Check\"></a>\n",
    "## 0. Machine Learning Project Checklist\n",
    "[Back to Index](#Index)\n",
    "\n",
    "This checklist can guide you through your Machine Learning projects. There are eight main steps:\n",
    "\n",
    "1. Frame the problem and look at the big picture.\n",
    "\n",
    "   a. what exactly is the business objective?; (building a model is probably not the end goal)\n",
    "   \n",
    "   b. what is the performance measure? Select the performance measure.\n",
    "   \n",
    "   c. What problem is this?\n",
    "   \n",
    "   d. Building the pipeline.\n",
    "\n",
    "\n",
    "2. Get the data.\n",
    "3. Explore the data to gain insights.\n",
    "4. Prepare the data to better expose the underlying data patterns to Machine Learning algorithms.\n",
    "5. Explore many different models and short-list the best ones.\n",
    "6. Fine-tune your models and combine them into a great solution.\n",
    "7. Present your solution.\n",
    "8. Launch, monitor, and maintain your system.\n"
   ]
  },
  {
   "cell_type": "markdown",
   "metadata": {},
   "source": [
    "<a id=\"Setup\"></a>\n",
    "## 1. Setup\n",
    "(Evenatually create a bash program for this)\n",
    "\n",
    "[Back to Index](#Index)"
   ]
  },
  {
   "cell_type": "code",
   "execution_count": null,
   "metadata": {
    "collapsed": true
   },
   "outputs": [],
   "source": [
    "## Create path and Folder\n",
    "\n",
    "'''\n",
    "$ export ML_PATH=\"$HOME/ml\"      # You can change the path if you prefer\n",
    "$ mkdir -p $ML_PATH\n",
    "'''\n",
    "\n",
    "## Create Enviroment (Avoid confliting versions of folders)\n",
    "'''\n",
    "$ pip3 install --user --upgrade virtualenv\n",
    "$ cd $ML_PATH\n",
    "$ virtualenv env\n",
    "'''\n",
    "\n",
    "## Connect to env / disconnect\n",
    "\n",
    "'''\n",
    "$ cd $ML_PATH\n",
    "$ source env/bin/activate\n",
    "'''\n",
    "\n",
    "## Install\n",
    "\n",
    "'''\n",
    "$pip3 install --upgrade jupyter matplotlib numpy pandas scipy scikit-learn\n",
    "$ python3 -c \"import jupyter, matplotlib, numpy, pandas, scipy, sklearn\"\n",
    "#No output should be displayed\n",
    "'''\n",
    "## Jupyter\n",
    "\n",
    "'''\n",
    "$ jupyter notebook\n",
    "'''"
   ]
  },
  {
   "cell_type": "markdown",
   "metadata": {},
   "source": [
    "<a id=\"Index\"></a>\n",
    "## Index\n",
    "[Back to Index](#Index)"
   ]
  },
  {
   "cell_type": "markdown",
   "metadata": {},
   "source": [
    "<a id=\"Index\"></a>\n",
    "## Index\n",
    "[Back to Index](#Index)"
   ]
  },
  {
   "cell_type": "markdown",
   "metadata": {},
   "source": [
    "<a id=\"Index\"></a>\n",
    "## Index\n",
    "[Back to Index](#Index)"
   ]
  },
  {
   "cell_type": "markdown",
   "metadata": {},
   "source": [
    "<a id=\"Index\"></a>\n",
    "## Index\n",
    "[Back to Index](#Index)"
   ]
  },
  {
   "cell_type": "markdown",
   "metadata": {},
   "source": [
    "<a id=\"Index\"></a>\n",
    "## Index\n",
    "[Back to Index](#Index)"
   ]
  },
  {
   "cell_type": "markdown",
   "metadata": {},
   "source": [
    "<a id=\"Index\"></a>\n",
    "## Index\n",
    "[Back to Index](#Index)"
   ]
  }
 ],
 "metadata": {
  "kernelspec": {
   "display_name": "Python 3",
   "language": "python",
   "name": "python3"
  },
  "language_info": {
   "codemirror_mode": {
    "name": "ipython",
    "version": 3
   },
   "file_extension": ".py",
   "mimetype": "text/x-python",
   "name": "python",
   "nbconvert_exporter": "python",
   "pygments_lexer": "ipython3",
   "version": "3.6.0"
  }
 },
 "nbformat": 4,
 "nbformat_minor": 2
}
